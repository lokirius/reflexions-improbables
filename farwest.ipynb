{
 "cells": [
  {
   "cell_type": "code",
   "execution_count": 39,
   "metadata": {},
   "outputs": [],
   "source": [
    "stotal, mtotal = 86400, 1440\n",
    "hores = [3600 for i in range(24)]\n",
    "minuts = [[60 for i in range(60)] for i in range(24)]\n",
    "sdia = 56700\n",
    "snit = stotal - sdia\n",
    "horamigdia, horamitjanit = sdia/12, snit/12\n",
    "#minutmigdia, minutmitjanit = horamigdia/60, horamitjanit/60\n",
    "#diferenciaminuts = (minutmigdia - minutmitjanit)/720\n",
    "diferenciahores = (horamigdia - horamitjanit)/12"
   ]
  },
  {
   "cell_type": "code",
   "execution_count": 40,
   "metadata": {},
   "outputs": [
    {
     "data": {
      "text/plain": [
       "(4725.0, 2475.0, 78.75, 41.25, 0.052083333333333336, 187.5)"
      ]
     },
     "execution_count": 40,
     "metadata": {},
     "output_type": "execute_result"
    }
   ],
   "source": [
    "horamigdia, horamitjanit, minutmigdia, minutmitjanit, diferenciaminuts, diferenciahores"
   ]
  },
  {
   "cell_type": "code",
   "execution_count": 43,
   "metadata": {},
   "outputs": [],
   "source": [
    "hores[0] = horamitjanit\n",
    "hores[12] = horamigdia\n",
    "for i in range(1, 12):\n",
    "    hores[i] = hores[i-1] + diferenciahores\n",
    "    hores[24-i] = hores[i]\n"
   ]
  },
  {
   "cell_type": "code",
   "execution_count": 45,
   "metadata": {},
   "outputs": [],
   "source": [
    "troba = lambda s: s/60"
   ]
  },
  {
   "cell_type": "code",
   "execution_count": 44,
   "metadata": {},
   "outputs": [
    {
     "data": {
      "text/plain": [
       "[2475.0,\n",
       " 2662.5,\n",
       " 2850.0,\n",
       " 3037.5,\n",
       " 3225.0,\n",
       " 3412.5,\n",
       " 3600.0,\n",
       " 3787.5,\n",
       " 3975.0,\n",
       " 4162.5,\n",
       " 4350.0,\n",
       " 4537.5,\n",
       " 4725.0,\n",
       " 4537.5,\n",
       " 4350.0,\n",
       " 4162.5,\n",
       " 3975.0,\n",
       " 3787.5,\n",
       " 3600.0,\n",
       " 3412.5,\n",
       " 3225.0,\n",
       " 3037.5,\n",
       " 2850.0,\n",
       " 2662.5]"
      ]
     },
     "execution_count": 44,
     "metadata": {},
     "output_type": "execute_result"
    }
   ],
   "source": [
    "hores"
   ]
  },
  {
   "cell_type": "code",
   "execution_count": 49,
   "metadata": {},
   "outputs": [
    {
     "data": {
      "text/plain": [
       "[41.25,\n",
       " 44.375,\n",
       " 47.5,\n",
       " 50.625,\n",
       " 53.75,\n",
       " 56.875,\n",
       " 60.0,\n",
       " 63.125,\n",
       " 66.25,\n",
       " 69.375,\n",
       " 72.5,\n",
       " 75.625,\n",
       " 78.75,\n",
       " 75.625,\n",
       " 72.5,\n",
       " 69.375,\n",
       " 66.25,\n",
       " 63.125,\n",
       " 60.0,\n",
       " 56.875,\n",
       " 53.75,\n",
       " 50.625,\n",
       " 47.5,\n",
       " 44.375]"
      ]
     },
     "execution_count": 49,
     "metadata": {},
     "output_type": "execute_result"
    }
   ],
   "source": [
    "list(map(troba,hores))"
   ]
  },
  {
   "cell_type": "code",
   "execution_count": null,
   "metadata": {},
   "outputs": [],
   "source": []
  }
 ],
 "metadata": {
  "kernelspec": {
   "display_name": "Python 3",
   "language": "python",
   "name": "python3"
  },
  "language_info": {
   "codemirror_mode": {
    "name": "ipython",
    "version": 3
   },
   "file_extension": ".py",
   "mimetype": "text/x-python",
   "name": "python",
   "nbconvert_exporter": "python",
   "pygments_lexer": "ipython3",
   "version": "3.7.6"
  }
 },
 "nbformat": 4,
 "nbformat_minor": 2
}
